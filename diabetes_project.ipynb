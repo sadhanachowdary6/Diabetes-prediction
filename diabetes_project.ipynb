{
  "nbformat": 4,
  "nbformat_minor": 0,
  "metadata": {
    "colab": {
      "provenance": [],
      "private_outputs": true
    },
    "kernelspec": {
      "name": "python3",
      "display_name": "Python 3"
    },
    "language_info": {
      "name": "python"
    },
    "accelerator": "GPU",
    "gpuClass": "standard"
  },
  "cells": [
    {
      "cell_type": "markdown",
      "source": [
        "Importing the dependencies|"
      ],
      "metadata": {
        "id": "NzafHVH8PimS"
      }
    },
    {
      "cell_type": "markdown",
      "source": [],
      "metadata": {
        "id": "ddo7r-AMbmtp"
      }
    },
    {
      "cell_type": "markdown",
      "source": [],
      "metadata": {
        "id": "Ph7oQGHZbmeB"
      }
    },
    {
      "cell_type": "code",
      "source": [
        "#numpy is used in making numpy arrays which is used while processing\n",
        "import numpy as np \n",
        "#pandas is used for making dataframes\n",
        "import pandas as pd\n",
        "#for standardiziong the data to a common range\n",
        "from sklearn.preprocessing import StandardScaler\n",
        "#used to split the data into training and testing\n",
        "from sklearn.model_selection import train_test_split\n",
        "#model\n",
        "from sklearn import svm\n",
        "#svm is support vector machine\n",
        "from sklearn.metrics import accuracy_score\n",
        "import pickle"
      ],
      "metadata": {
        "id": "xkEF82uKPl8L"
      },
      "execution_count": null,
      "outputs": []
    },
    {
      "cell_type": "markdown",
      "source": [
        "Data collection and analysis"
      ],
      "metadata": {
        "id": "kvq4LAUrRL5S"
      }
    },
    {
      "cell_type": "code",
      "source": [
        "#dataset is from kaggale uci machine learning repository\n",
        "#PIMA diabetes dataset\n",
        "#dataset is only for the females pregnancy,🩸 blood glucose level,insulin\n",
        "#loading the dataset to a pandas dataframe\n",
        "diabetes_dataset=pd.read_csv('/content/diabetes.csv')\n",
        "\n"
      ],
      "metadata": {
        "id": "8dH03WCTRXg1"
      },
      "execution_count": null,
      "outputs": []
    },
    {
      "cell_type": "code",
      "source": [
        "diabetes_dataset.isnull().sum()"
      ],
      "metadata": {
        "id": "JN0QqXiB2gdL"
      },
      "execution_count": null,
      "outputs": []
    },
    {
      "cell_type": "code",
      "source": [
        "diabetes_dataset.head()"
      ],
      "metadata": {
        "id": "W34tFTUOTEJE"
      },
      "execution_count": null,
      "outputs": []
    },
    {
      "cell_type": "code",
      "source": [
        "diabetes_dataset=diabetes_dataset.rename(columns={'DiabetesPedigreeFunction':'DPF'})"
      ],
      "metadata": {
        "id": "MLU-X0Tv05OS"
      },
      "execution_count": null,
      "outputs": []
    },
    {
      "cell_type": "code",
      "source": [
        "#number of rows and columns in a dataframe\n",
        "diabetes_dataset.shape"
      ],
      "metadata": {
        "id": "-8XYBexmVpPZ"
      },
      "execution_count": null,
      "outputs": []
    },
    {
      "cell_type": "code",
      "source": [
        "#getting the statistical measures of the data\n",
        "diabetes_dataset.describe()"
      ],
      "metadata": {
        "id": "lpvmI4OCW5PB"
      },
      "execution_count": null,
      "outputs": []
    },
    {
      "cell_type": "code",
      "source": [
        "#gives us the count of diabetic and non diabetic people\n",
        "diabetes_dataset['Outcome'].value_counts()"
      ],
      "metadata": {
        "id": "dQpQuA4KXWhJ"
      },
      "execution_count": null,
      "outputs": []
    },
    {
      "cell_type": "code",
      "source": [
        "#gives the mean value for both diabetic and non diabetic\n",
        "diabetes_dataset.groupby('Outcome').mean()"
      ],
      "metadata": {
        "id": "JYKdZnQQX5l1"
      },
      "execution_count": null,
      "outputs": []
    },
    {
      "cell_type": "code",
      "source": [
        "#now we want create another table without the column Outcome\n",
        "#seperating data and labels\n",
        "X=diabetes_dataset.drop(columns='Outcome',axis=1)\n",
        "Y=diabetes_dataset['Outcome']\n"
      ],
      "metadata": {
        "id": "UoI0CHkwYs_C"
      },
      "execution_count": null,
      "outputs": []
    },
    {
      "cell_type": "code",
      "source": [
        "pd.DataFrame(X)"
      ],
      "metadata": {
        "id": "MH5JRWfcaQHo"
      },
      "execution_count": null,
      "outputs": []
    },
    {
      "cell_type": "code",
      "source": [
        "pd.DataFrame(Y)"
      ],
      "metadata": {
        "id": "lSMc_YIIaYpr"
      },
      "execution_count": null,
      "outputs": []
    },
    {
      "cell_type": "markdown",
      "source": [
        "Data Standardizing(pre-processing)"
      ],
      "metadata": {
        "id": "WiIuQvglbF7M"
      }
    },
    {
      "cell_type": "code",
      "source": [
        "#we are bringing all the data to the same range for the machine learning to make better predictions\n",
        "scaler=StandardScaler()\n"
      ],
      "metadata": {
        "id": "VjxsMqt4afFt"
      },
      "execution_count": null,
      "outputs": []
    },
    {
      "cell_type": "code",
      "source": [
        "# removing the inconsistency\n",
        "scaler.fit(X);"
      ],
      "metadata": {
        "id": "PE3WIEBddNLr"
      },
      "execution_count": null,
      "outputs": []
    },
    {
      "cell_type": "code",
      "source": [
        "#getting them to the same range\n",
        "standerdize_data=scaler.transform(X)"
      ],
      "metadata": {
        "id": "-Djcphctdxpl"
      },
      "execution_count": null,
      "outputs": []
    },
    {
      "cell_type": "code",
      "source": [
        "print(standerdize_data)"
      ],
      "metadata": {
        "id": "10TYjSsBemYA"
      },
      "execution_count": null,
      "outputs": []
    },
    {
      "cell_type": "code",
      "source": [
        "#this will help the model to make better predictions because all the values are in the similar range"
      ],
      "metadata": {
        "id": "atmhYt39fgvC"
      },
      "execution_count": null,
      "outputs": []
    },
    {
      "cell_type": "code",
      "source": [
        "X=standerdize_data"
      ],
      "metadata": {
        "id": "kLIxhff6fuhG"
      },
      "execution_count": null,
      "outputs": []
    },
    {
      "cell_type": "code",
      "source": [
        "print(X,Y)"
      ],
      "metadata": {
        "id": "CsS-Os3sf4pF"
      },
      "execution_count": null,
      "outputs": []
    },
    {
      "cell_type": "markdown",
      "source": [
        "Splitting the data into train test"
      ],
      "metadata": {
        "id": "cBxCLVAegHjS"
      }
    },
    {
      "cell_type": "code",
      "source": [
        "#stratify helps to prevent the data from going to only one variable such as X_train or X_test\n",
        "#it helps equally distribute\n",
        "X_train,X_test,Y_train,Y_test=train_test_split(X,Y,test_size=0.2,stratify=Y,random_state=2)"
      ],
      "metadata": {
        "id": "YayOzyEBgEa1"
      },
      "execution_count": null,
      "outputs": []
    },
    {
      "cell_type": "code",
      "source": [
        "print(X_train.shape,X_test.shape,X.shape,Y_train.shape,Y_test.shape,Y.shape)"
      ],
      "metadata": {
        "id": "yRo-FTMCiymN"
      },
      "execution_count": null,
      "outputs": []
    },
    {
      "cell_type": "markdown",
      "source": [
        "Training the model"
      ],
      "metadata": {
        "id": "00oxQG0yjg17"
      }
    },
    {
      "cell_type": "code",
      "source": [
        "#support vector classifier\n",
        "#this will load svm into classifier variable\n",
        "classifier=svm.SVC(kernel='linear')"
      ],
      "metadata": {
        "id": "Mb9S_Q3IjALk"
      },
      "execution_count": null,
      "outputs": []
    },
    {
      "cell_type": "code",
      "source": [
        "#training the support vector machine classifier\n",
        "classifier.fit(X_train,Y_train);"
      ],
      "metadata": {
        "id": "OweVBaFw428s"
      },
      "execution_count": null,
      "outputs": []
    },
    {
      "cell_type": "markdown",
      "source": [
        "Model evaluation how many times model is doing correctly"
      ],
      "metadata": {
        "id": "ElNfg40E5m9Z"
      }
    },
    {
      "cell_type": "code",
      "source": [
        "#accuracy score on the training data\n",
        "#predicting the lables for X_train using the model\n",
        "X_train_predictions=classifier.predict(X_train)\n",
        "#comparing the X_train predictions with Y_train\n",
        "training_data_accuracy=accuracy_score(X_train_predictions,Y_train)\n",
        "print('Accuracy score of the training data:',training_data_accuracy)"
      ],
      "metadata": {
        "id": "H9SIW6PL5enR"
      },
      "execution_count": null,
      "outputs": []
    },
    {
      "cell_type": "code",
      "source": [
        "X_test_predictions=classifier.predict(X_test)\n",
        "test_data_accuracy=accuracy_score(X_test_predictions,Y_test)\n",
        "print('Accuracy score of the test data:',test_data_accuracy)"
      ],
      "metadata": {
        "id": "xLYU7_ql6QQ7"
      },
      "execution_count": null,
      "outputs": []
    },
    {
      "cell_type": "markdown",
      "source": [
        "Making a predictive System"
      ],
      "metadata": {
        "id": "4Z3s1sFO8xOX"
      }
    },
    {
      "cell_type": "code",
      "source": [
        "#in this we have to give all the necessary info such as insulin, glucose\n",
        "input_data=(1,189,60,23,846,30.1,0.398,59)\n",
        "#changing the input_data into numpy array\n",
        "input_data_as_numpy_array=np.asarray(input_data)\n",
        "#reshaping the array to predict one instance\n",
        "#the need for this reshaping is the model will think we have to give 768 for predicting \n",
        "#1,-1 reshaping will tell the model that we should predict for only one label\n",
        "input_data_reshaped=input_data_as_numpy_array.reshape(1,-1)\n",
        "#standardizing the data\n",
        "std_data=scaler.transform(input_data_reshaped)\n",
        "print(std_data)\n",
        "prediction=classifier.predict(std_data)\n",
        "print(prediction)\n",
        "if (prediction[0]==0):\n",
        "  print('the patient is not diabetic')\n",
        "else:\n",
        "  print('the patient is diabetic')\n"
      ],
      "metadata": {
        "id": "acG4bpbD8v7i"
      },
      "execution_count": null,
      "outputs": []
    },
    {
      "cell_type": "code",
      "source": [],
      "metadata": {
        "id": "AnsyX8mEBMwP"
      },
      "execution_count": null,
      "outputs": []
    }
  ]
}